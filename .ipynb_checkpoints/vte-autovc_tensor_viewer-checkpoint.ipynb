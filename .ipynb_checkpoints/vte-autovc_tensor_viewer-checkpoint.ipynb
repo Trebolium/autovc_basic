{
 "cells": [
  {
   "cell_type": "code",
   "execution_count": 1,
   "metadata": {},
   "outputs": [],
   "source": [
    "import time, os, pdb, pickle, argparse, shutil, yaml, torch, math, time, pdb, datetime, pickle\n",
    "import utils #file\n",
    "from solver_encoder import Solver \n",
    "from torch.utils.data import DataLoader\n",
    "from torch.backends import cudnn\n",
    "import matplotlib.pyplot as plt\n",
    "import numpy as np\n",
    "from scipy.signal import medfilt\n",
    "import torch.nn.functional as F"
   ]
  },
  {
   "cell_type": "code",
   "execution_count": 6,
   "metadata": {},
   "outputs": [
    {
     "data": {
      "text/plain": [
       "Namespace(adam_init=0.0001, autovc_ckpt='/homes/bdoc3/my_data/autovc_data/autovc_basic/model_data/1Hot16FreqL1Loss/ckpts/ckpt_100000.pth.tar', batch_size=2, chunk_num=6, chunk_seconds=0.5, ckpt_freq=50000, data_dir='/homes/bdoc3/my_data/autovc_data/autovc_basic', device=device(type='cuda', index=1), dim_emb=256, dim_neck=32, dim_pre=512, file_name='1Hot16FreqL1Loss', freq=16, lambda_cd=1, len_crop=192, load_ckpts='', log_step=10, num_iters=100000, one_hot=False, prnt_loss_weight=1.0, psnt_loss_weight=1.0, shape_adapt=True, spec_freq=10000, spmel_dir='/homes/bdoc3/my_data/autovc_data/spmel', train_size=20, vte_ckpt='/homes/bdoc3/phonDet/results/newStandardAutovcSpmelParamsUnnormLatent64Out256/best_epoch_checkpoint.pth.tar', which_cuda=0)"
      ]
     },
     "execution_count": 6,
     "metadata": {},
     "output_type": "execute_result"
    }
   ],
   "source": [
    "# tailor config, define other \n",
    "autovc_model_dir = '/homes/bdoc3/my_data/autovc_data/autovc_basic/model_data/1Hot16FreqL1Loss'\n",
    "autovc_ckpt_path = autovc_model_dir +'/ckpts/ckpt_100000.pth.tar'\n",
    "cudnn.benchmark = True\n",
    "\n",
    "config = pickle.load(open(autovc_model_dir +'/config.pkl','rb'))\n",
    "config.autovc_ckpt = autovc_ckpt_path\n",
    "config.spmel_dir = '/homes/bdoc3/my_data/autovc_data/spmel'\n",
    "config.data_dir = '/homes/bdoc3/my_data/autovc_data/autovc_basic'\n",
    "with open(config.spmel_dir +'/spmel_params.yaml') as File:\n",
    "    spmel_params = yaml.load(File, Loader=yaml.FullLoader)\n",
    "config.vte_ckpt = '/homes/bdoc3/phonDet/results/newStandardAutovcSpmelParamsUnnormLatent64Out256/best_epoch_checkpoint.pth.tar'\n",
    "config.device = torch.device(f'cuda:{config.which_cuda}' if torch.cuda.is_available() else 'cpu')\n",
    "config.which_cuda=0\n",
    "config.chunk_num = 6\n",
    "config.chunk_seconds = 0.5\n",
    "config.len_crop=192 # BUT AUTOVC WASN'T TRAINED ON 192, IT WAS 128\n",
    "config.one_hot = False\n",
    "config.dim_emb = 256\n",
    "\n",
    "config"
   ]
  },
  {
   "cell_type": "code",
   "execution_count": 7,
   "metadata": {},
   "outputs": [
    {
     "name": "stdout",
     "output_type": "stream",
     "text": [
      "['/homes/bdoc3/autovc_basic', '/homes/bdoc3/my_data/autovc_data/autovc_basic/model_data/1Hot16FreqL1Loss', '/homes/bdoc3/my_data/autovc_data/autovc_basic/model_data/1Hot16FreqL1Loss', '', '/import/linux/python/3.7.7/lib/python3.7/site-packages', '/import/linux/python/3.7.7/lib/python37.zip', '/import/linux/python/3.7.7/lib/python3.7', '/import/linux/python/3.7.7/lib/python3.7/lib-dynload', '/homes/bdoc3/.local/lib/python3.7/site-packages', '/homes/bdoc3/.local/lib/python3.7/site-packages/IPython/extensions', '/homes/bdoc3/.ipython']\n",
      "Finished loading the dataset...\n"
     ]
    },
    {
     "ename": "RuntimeError",
     "evalue": "Error(s) in loading state_dict for Generator:\n\tsize mismatch for encoder.convolutions.0.0.conv.weight: copying a param with shape torch.Size([512, 100, 5]) from checkpoint, the shape in current model is torch.Size([512, 336, 5]).\n\tsize mismatch for decoder.lstm1.weight_ih_l0: copying a param with shape torch.Size([2048, 84]) from checkpoint, the shape in current model is torch.Size([2048, 320]).",
     "output_type": "error",
     "traceback": [
      "\u001b[0;31m---------------------------------------------------------------------------\u001b[0m",
      "\u001b[0;31mRuntimeError\u001b[0m                              Traceback (most recent call last)",
      "\u001b[0;32m<ipython-input-7-61c81aa22504>\u001b[0m in \u001b[0;36m<module>\u001b[0;34m\u001b[0m\n\u001b[1;32m      9\u001b[0m \u001b[0mvcc_loader\u001b[0m \u001b[0;34m=\u001b[0m \u001b[0mget_loader\u001b[0m\u001b[0;34m(\u001b[0m\u001b[0mconfig\u001b[0m\u001b[0;34m)\u001b[0m\u001b[0;34m\u001b[0m\u001b[0;34m\u001b[0m\u001b[0m\n\u001b[1;32m     10\u001b[0m \u001b[0msolver\u001b[0m \u001b[0;34m=\u001b[0m \u001b[0mSolver\u001b[0m\u001b[0;34m(\u001b[0m\u001b[0mvcc_loader\u001b[0m\u001b[0;34m,\u001b[0m \u001b[0mconfig\u001b[0m\u001b[0;34m)\u001b[0m\u001b[0;34m\u001b[0m\u001b[0;34m\u001b[0m\u001b[0m\n\u001b[0;32m---> 11\u001b[0;31m \u001b[0mG\u001b[0m \u001b[0;34m=\u001b[0m \u001b[0mutils\u001b[0m\u001b[0;34m.\u001b[0m\u001b[0msetup_gen\u001b[0m\u001b[0;34m(\u001b[0m\u001b[0mconfig\u001b[0m\u001b[0;34m,\u001b[0m \u001b[0mGenerator\u001b[0m\u001b[0;34m)\u001b[0m\u001b[0;34m\u001b[0m\u001b[0;34m\u001b[0m\u001b[0m\n\u001b[0m",
      "\u001b[0;32m~/autovc_basic/utils.py\u001b[0m in \u001b[0;36msetup_gen\u001b[0;34m(config, Generator)\u001b[0m\n\u001b[1;32m     38\u001b[0m     \u001b[0mg_optimizer\u001b[0m \u001b[0;34m=\u001b[0m \u001b[0mtorch\u001b[0m\u001b[0;34m.\u001b[0m\u001b[0moptim\u001b[0m\u001b[0;34m.\u001b[0m\u001b[0mAdam\u001b[0m\u001b[0;34m(\u001b[0m\u001b[0mG\u001b[0m\u001b[0;34m.\u001b[0m\u001b[0mparameters\u001b[0m\u001b[0;34m(\u001b[0m\u001b[0;34m)\u001b[0m\u001b[0;34m,\u001b[0m \u001b[0mconfig\u001b[0m\u001b[0;34m.\u001b[0m\u001b[0madam_init\u001b[0m\u001b[0;34m)\u001b[0m\u001b[0;34m\u001b[0m\u001b[0;34m\u001b[0m\u001b[0m\n\u001b[1;32m     39\u001b[0m     \u001b[0mg_checkpoint\u001b[0m \u001b[0;34m=\u001b[0m \u001b[0mtorch\u001b[0m\u001b[0;34m.\u001b[0m\u001b[0mload\u001b[0m\u001b[0;34m(\u001b[0m\u001b[0mconfig\u001b[0m\u001b[0;34m.\u001b[0m\u001b[0mautovc_ckpt\u001b[0m\u001b[0;34m)\u001b[0m\u001b[0;34m\u001b[0m\u001b[0;34m\u001b[0m\u001b[0m\n\u001b[0;32m---> 40\u001b[0;31m     \u001b[0mG\u001b[0m\u001b[0;34m.\u001b[0m\u001b[0mload_state_dict\u001b[0m\u001b[0;34m(\u001b[0m\u001b[0mg_checkpoint\u001b[0m\u001b[0;34m[\u001b[0m\u001b[0;34m'model_state_dict'\u001b[0m\u001b[0;34m]\u001b[0m\u001b[0;34m)\u001b[0m\u001b[0;34m\u001b[0m\u001b[0;34m\u001b[0m\u001b[0m\n\u001b[0m\u001b[1;32m     41\u001b[0m     \u001b[0mg_optimizer\u001b[0m\u001b[0;34m.\u001b[0m\u001b[0mload_state_dict\u001b[0m\u001b[0;34m(\u001b[0m\u001b[0mg_checkpoint\u001b[0m\u001b[0;34m[\u001b[0m\u001b[0;34m'optimizer_state_dict'\u001b[0m\u001b[0;34m]\u001b[0m\u001b[0;34m)\u001b[0m\u001b[0;34m\u001b[0m\u001b[0;34m\u001b[0m\u001b[0m\n\u001b[1;32m     42\u001b[0m     \u001b[0;31m# fixes tensors on different devices error\u001b[0m\u001b[0;34m\u001b[0m\u001b[0;34m\u001b[0m\u001b[0;34m\u001b[0m\u001b[0m\n",
      "\u001b[0;32m~/.local/lib/python3.7/site-packages/torch/nn/modules/module.py\u001b[0m in \u001b[0;36mload_state_dict\u001b[0;34m(self, state_dict, strict)\u001b[0m\n\u001b[1;32m   1050\u001b[0m         \u001b[0;32mif\u001b[0m \u001b[0mlen\u001b[0m\u001b[0;34m(\u001b[0m\u001b[0merror_msgs\u001b[0m\u001b[0;34m)\u001b[0m \u001b[0;34m>\u001b[0m \u001b[0;36m0\u001b[0m\u001b[0;34m:\u001b[0m\u001b[0;34m\u001b[0m\u001b[0;34m\u001b[0m\u001b[0m\n\u001b[1;32m   1051\u001b[0m             raise RuntimeError('Error(s) in loading state_dict for {}:\\n\\t{}'.format(\n\u001b[0;32m-> 1052\u001b[0;31m                                self.__class__.__name__, \"\\n\\t\".join(error_msgs)))\n\u001b[0m\u001b[1;32m   1053\u001b[0m         \u001b[0;32mreturn\u001b[0m \u001b[0m_IncompatibleKeys\u001b[0m\u001b[0;34m(\u001b[0m\u001b[0mmissing_keys\u001b[0m\u001b[0;34m,\u001b[0m \u001b[0munexpected_keys\u001b[0m\u001b[0;34m)\u001b[0m\u001b[0;34m\u001b[0m\u001b[0;34m\u001b[0m\u001b[0m\n\u001b[1;32m   1054\u001b[0m \u001b[0;34m\u001b[0m\u001b[0m\n",
      "\u001b[0;31mRuntimeError\u001b[0m: Error(s) in loading state_dict for Generator:\n\tsize mismatch for encoder.convolutions.0.0.conv.weight: copying a param with shape torch.Size([512, 100, 5]) from checkpoint, the shape in current model is torch.Size([512, 336, 5]).\n\tsize mismatch for decoder.lstm1.weight_ih_l0: copying a param with shape torch.Size([2048, 84]) from checkpoint, the shape in current model is torch.Size([2048, 320])."
     ]
    }
   ],
   "source": [
    "# import path to use autovc_model_dir's .py\n",
    "import sys\n",
    "sys.path.insert(1, autovc_model_dir) # usually the cwd is priority, so index 1 is good enough for our purposes here\n",
    "print(sys.path)\n",
    "from this_model_vc import Generator\n",
    "from data_loader import get_loader\n",
    "\n",
    "# setup dataloader, models\n",
    "vcc_loader = get_loader(config)\n",
    "solver = Solver(vcc_loader, config)\n",
    "G = utils.setup_gen(config, Generator)"
   ]
  },
  {
   "cell_type": "code",
   "execution_count": null,
   "metadata": {},
   "outputs": [],
   "source": [
    "vte = utils.setup_vte(config, spmel_params)"
   ]
  },
  {
   "cell_type": "code",
   "execution_count": null,
   "metadata": {},
   "outputs": [],
   "source": [
    "# get data\n",
    "data_iter = iter(vcc_loader)\n",
    "x_real, style_idx, singer_idx = next(data_iter)\n",
    "x_real = x_real.to(config.device)\n",
    "x_real_chunked = x_real.view(x_real.shape[0]*config.chunk_num, x_real.shape[1]//config.chunk_num, -1)\n",
    "pred_style_idx, all_tensors = vte(x_real_chunked)\n",
    "emb_org = all_tensors[-1]\n",
    "# x_identic_psnt consists of the original mel + the residual definiton added ontop\n",
    "x_identic, x_identic_psnt, code_real, saved_enc_outs, saved_dec_outs = G(x_real, emb_org, emb_org)\n",
    "batch_id = 0\n",
    "plt.figure()\n",
    "plt.subplot(1,2,1)\n",
    "plt.imshow(np.rot90(x_identic.squeeze(1)[batch_id].cpu().detach().numpy()))\n",
    "plt.subplot(1,2,2)\n",
    "plt.imshow(np.rot90(x_real[batch_id].cpu().detach().numpy()))"
   ]
  },
  {
   "cell_type": "code",
   "execution_count": null,
   "metadata": {},
   "outputs": [],
   "source": [
    "print(len(saved_enc_outs)) # should contain output tensors for:\n",
    "enc_outs = ['mel_cat_emb','conv1','conv2','conv3','lstm','resampled']\n",
    "print(len(saved_dec_outs)) # should contain output tensors for:\n",
    "dec_outs = ['input','lstm1','conv1','conv2','conv3','lstm2','dense']"
   ]
  },
  {
   "cell_type": "code",
   "execution_count": null,
   "metadata": {},
   "outputs": [],
   "source": [
    "if not os.path.exists(autovc_model_dir + '/tensor_views'):\n",
    "    os.makedirs(autovc_model_dir + '/tensor_views')"
   ]
  },
  {
   "cell_type": "code",
   "execution_count": null,
   "metadata": {},
   "outputs": [],
   "source": [
    "saved_enc_outs[5][0].shape"
   ]
  },
  {
   "cell_type": "code",
   "execution_count": null,
   "metadata": {},
   "outputs": [],
   "source": [
    "plt.figure(figsize=(30,30))\n",
    "example = saved_enc_outs[5][0]\n",
    "if len(example.shape) == 3:\n",
    "    for i, tensor in enumerate(example):\n",
    "        if i == 64:\n",
    "            break\n",
    "        tensor_arr = tensor.cpu().detach().numpy()\n",
    "        plt.subplot(8, 8, i + 1)\n",
    "        plt.imshow(tensor_arr)\n",
    "        plt.xticks()\n",
    "        plt.axis(\"off\")\n",
    "else:\n",
    "    tensor_arr = example.cpu().detach().numpy()\n",
    "    plt.imshow(tensor_arr)\n",
    "    plt.axis(\"off\")"
   ]
  },
  {
   "cell_type": "code",
   "execution_count": null,
   "metadata": {},
   "outputs": [],
   "source": [
    "for batch_id in range(2):\n",
    "    for layer in range(len(saved_dec_outs)):\n",
    "        plt.figure(figsize=(30,30))\n",
    "        example = saved_dec_outs[layer][batch_id]\n",
    "        if len(example.shape) == 3:\n",
    "            for i, tensor in enumerate(example):\n",
    "                if i == 64:\n",
    "                    break\n",
    "                tensor_arr = tensor.cpu().detach().numpy()\n",
    "                plt.subplot(8, 8, i + 1)\n",
    "                plt.imshow(tensor_arr)\n",
    "                plt.axis(\"off\")\n",
    "        else:\n",
    "            tensor_arr = example.cpu().detach().numpy()\n",
    "            plt.imshow(tensor_arr)\n",
    "            plt.axis(\"off\")\n",
    "        print(f\"Saving layer saved_enc_outs{layer} feature maps...\")\n",
    "        plt.savefig(autovc_model_dir + f\"/tensor_views/SavedDecOuts_Batch{batch_id}_Layer{layer}_{dec_outs[layer]}.png\")"
   ]
  },
  {
   "cell_type": "code",
   "execution_count": null,
   "metadata": {},
   "outputs": [],
   "source": [
    "for batch_id in range(2):\n",
    "    for layer in range(len(saved_enc_outs)):\n",
    "        plt.figure(figsize=(30,30))\n",
    "        example = saved_enc_outs[layer][batch_id]\n",
    "        if len(example.shape) == 3:\n",
    "            for i, tensor in enumerate(example):\n",
    "                if i == 64:\n",
    "                    break\n",
    "                tensor_arr = tensor.cpu().detach().numpy()\n",
    "                plt.subplot(8, 8, i + 1)\n",
    "                plt.imshow(tensor_arr)\n",
    "                plt.axis(\"off\")\n",
    "        else:\n",
    "            tensor_arr = example.cpu().detach().numpy()\n",
    "            plt.imshow(tensor_arr)\n",
    "            plt.axis(\"off\")\n",
    "        print(f\"Saving layer saved_enc_outs{layer} feature maps...\")\n",
    "        plt.savefig(autovc_model_dir + f\"/tensor_views/SavedEncOuts_Batch{batch_id}_Layer{layer}_{enc_outs[layer]}.png\")"
   ]
  },
  {
   "cell_type": "code",
   "execution_count": null,
   "metadata": {},
   "outputs": [],
   "source": []
  }
 ],
 "metadata": {
  "kernelspec": {
   "display_name": "venvautovc",
   "language": "python",
   "name": "venvautovc"
  },
  "language_info": {
   "codemirror_mode": {
    "name": "ipython",
    "version": 3
   },
   "file_extension": ".py",
   "mimetype": "text/x-python",
   "name": "python",
   "nbconvert_exporter": "python",
   "pygments_lexer": "ipython3",
   "version": "3.7.7"
  }
 },
 "nbformat": 4,
 "nbformat_minor": 4
}
